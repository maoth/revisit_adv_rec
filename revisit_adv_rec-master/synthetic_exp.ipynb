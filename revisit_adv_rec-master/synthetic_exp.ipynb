{
 "cells": [
  {
   "cell_type": "markdown",
   "metadata": {},
   "source": [
    "# Revisiting Adversarially Learned Injection Attacks Against Recommender Systems\n",
    "This notebook shows the self-contained implementation for the *synthetic experiments* in paper \"Revisiting Adversarially Learned Injection Attacks Against Recommender Systems\" by Jiaxi Tang, Hongyi Wen and Ke Wang, in ACM conference on Recommender Systems (RecSys) 2020.\n",
    " \n",
    "We aim to provide step-by-step illustrations to reproduce the results in the paper."
   ]
  },
  {
   "cell_type": "markdown",
   "metadata": {},
   "source": [
    "## Import the necessary libraries\n",
    "Please make sure to have PyTorch version >= 1.3 and install the higher library from https://github.com/facebookresearch/higher"
   ]
  },
  {
   "cell_type": "code",
   "execution_count": 1,
   "metadata": {},
   "outputs": [],
   "source": [
    "import random\n",
    "from functools import partial\n",
    "import numpy as np\n",
    "\n",
    "\n",
    "import torch\n",
    "from torch import nn\n",
    "import torch.nn.functional as F\n",
    "import torch.optim as optim\n",
    "\n",
    "import higher"
   ]
  },
  {
   "cell_type": "markdown",
   "metadata": {},
   "source": [
    "## Model definition\n",
    "The two models we used in the paper are:\n",
    "- `LFM` the standard latent factor model.\n",
    "- `ItemAE`: the proposed model that could approximate the adversarial gradient with parial derivatives."
   ]
  },
  {
   "cell_type": "code",
   "execution_count": 2,
   "metadata": {},
   "outputs": [],
   "source": [
    "class LatentFactorModel(nn.Module):\n",
    "    def __init__(self, n_users, n_items, hidden_dim):\n",
    "        super(LatentFactorModel, self).__init__()\n",
    "\n",
    "        self.n_users = n_users\n",
    "        self.n_items = n_items\n",
    "        self.dim = hidden_dim\n",
    "\n",
    "        self.V = nn.Parameter(\n",
    "            torch.randn([self.n_items, self.dim]), requires_grad=True)\n",
    "        self.U = nn.Parameter(\n",
    "            torch.randn([self.n_users, self.dim]), requires_grad=True)\n",
    "        self.params = nn.ParameterList([self.V, self.U])\n",
    "\n",
    "    def forward(self, user_id=None, item_id=None):\n",
    "        if user_id is None and item_id is None:\n",
    "            return torch.mm(self.U, self.V.t())\n",
    "        if user_id is not None:\n",
    "            return torch.mm(self.U[[user_id]], self.V.t())\n",
    "        if item_id is not None:\n",
    "            return torch.mm(self.U, self.V[[item_id]].t())\n",
    "\n",
    "class ItemAE(nn.Module):\n",
    "    def __init__(self, input_dim, hidden_dims):\n",
    "        super(ItemAE, self).__init__()\n",
    "        self.q_dims = [input_dim] + hidden_dims\n",
    "        self.p_dims = self.q_dims[::-1]\n",
    "\n",
    "        self.q_layers = nn.ModuleList([nn.Linear(d_in, d_out) for\n",
    "                                       d_in, d_out in\n",
    "                                       zip(self.q_dims[:-1],\n",
    "                                           self.q_dims[1:])])\n",
    "        self.p_layers = nn.ModuleList([nn.Linear(d_in, d_out) for\n",
    "                                       d_in, d_out in\n",
    "                                       zip(self.p_dims[:-1],\n",
    "                                           self.p_dims[1:])])\n",
    "\n",
    "    def encode(self, input):\n",
    "        h = input\n",
    "        for i, layer in enumerate(self.q_layers):\n",
    "            h = layer(h)\n",
    "            h = F.selu(h)\n",
    "        return h\n",
    "\n",
    "    def decode(self, z):\n",
    "        h = z\n",
    "        for i, layer in enumerate(self.p_layers):\n",
    "            h = layer(h)\n",
    "            if i != len(self.p_layers) - 1:\n",
    "                h = F.selu(h)\n",
    "        return h\n",
    "\n",
    "    def forward(self, data):\n",
    "        z = self.encode(data.t())\n",
    "        return self.decode(z).t()\n",
    "\n",
    "def get_model(name=\"LFM\"):\n",
    "    model, inner_opt = None, None\n",
    "    if name == \"LFM\":\n",
    "        hidden_dim = 16\n",
    "        model = LatentFactorModel(n_users, n_items, hidden_dim)\n",
    "        inner_opt = optim.Adam(model.parameters(), lr=0.5)\n",
    "    elif name == \"ItemAE\":\n",
    "        hidden_dims = [64, 32]\n",
    "        model = ItemAE(n_users, hidden_dims)\n",
    "        inner_opt = optim.Adam(model.parameters(), lr=1e-2)\n",
    "\n",
    "    return model, inner_opt"
   ]
  },
  {
   "cell_type": "markdown",
   "metadata": {},
   "source": [
    "## Utility functions"
   ]
  },
  {
   "cell_type": "markdown",
   "metadata": {},
   "source": [
    "### 1) Loss functions\n",
    "We use the softmax loss as the adversarial objective $\\mathcal{L}_{\\rm{adv}}$ and the weighted MSE as the surrogate training objective $\\mathcal{L}_{\\rm{train}}$, one can also define & explore other objectives."
   ]
  },
  {
   "cell_type": "code",
   "execution_count": 3,
   "metadata": {},
   "outputs": [],
   "source": [
    "def softmax_cross_entropy_with_logits(logits, targets):\n",
    "    log_probs = F.log_softmax(logits, dim=1)\n",
    "    loss = -log_probs * targets\n",
    "    return loss.sum()\n",
    "\n",
    "def mse_loss(logits, targets, weight=1):\n",
    "    weights = torch.ones_like(logits)\n",
    "    weights[targets > 0] = weight\n",
    "    loss = weights * (targets - logits)**2\n",
    "    return loss.sum()"
   ]
  },
  {
   "cell_type": "markdown",
   "metadata": {},
   "source": [
    "### 2) Functions for adversarial training and evaluation"
   ]
  },
  {
   "cell_type": "code",
   "execution_count": 4,
   "metadata": {},
   "outputs": [],
   "source": [
    "def set_random_seed(seed, use_cuda):\n",
    "    random.seed(seed)\n",
    "    np.random.seed(seed)\n",
    "    if use_cuda:\n",
    "        torch.cuda.manual_seed(seed)\n",
    "        torch.backends.cudnn.deterministic = True\n",
    "    else:\n",
    "        torch.manual_seed(seed)\n",
    "\n",
    "def project_data(data, threshold=0.5):\n",
    "    result = data.clone()\n",
    "    return torch.where(result > threshold,\n",
    "                       torch.ones_like(result), torch.zeros_like(result))\n",
    "\n",
    "def evaluate(data_x, preds, test_items, target_item=None, cutoff=10):\n",
    "    test_rankings = []\n",
    "    target_rankings = []\n",
    "\n",
    "    filtered_preds = preds.clone()\n",
    "    filtered_preds.require_grad = False\n",
    "    filtered_preds[torch.where(data_x)] = -np.inf\n",
    "    rankings = filtered_preds.argsort(dim=1, descending=True).tolist()\n",
    "\n",
    "    for user, test_item in enumerate(test_items):\n",
    "        rank = rankings[user]\n",
    "        test_rank = rank.index(test_item)\n",
    "        test_rankings.append(test_rank)\n",
    "        if target_item is not None:\n",
    "            target_rank = rank.index(target_item)\n",
    "            target_rankings.append(target_rank)\n",
    "    test_rankings = np.asarray(test_rankings)\n",
    "    target_rankings = np.asarray(target_rankings)\n",
    "\n",
    "    mean_hr_test = (test_rankings < cutoff).mean()\n",
    "    mean_rank_test = test_rankings.mean()\n",
    "\n",
    "    result = {\"hr@%d_test\" % cutoff: \"%.4f\" % mean_hr_test,\n",
    "              \"mean_rank_test\": \"%.4f\" % mean_rank_test}\n",
    "    if target_item is not None:\n",
    "        mean_hr_target = (target_rankings < cutoff).mean()\n",
    "        mean_rank_target = target_rankings.mean()\n",
    "        result[\"hr@%d_target\" % cutoff] = \"%.4f\" % mean_hr_target\n",
    "        result[\"mean_rank_target\"] = \"%.4f\" % mean_rank_target\n",
    "    return result"
   ]
  },
  {
   "cell_type": "markdown",
   "metadata": {},
   "source": [
    "## Generate synthetic data\n",
    "We synthesize a toy datset that is more controllable. Specifically, each data point in $X$ is generated by $x=\\mu \\nu^\\top$, where both $\\nu \\in \\mathcal{R}^d$ and $\\mu\\in \\mathcal{R}^d$ are sampled from $\\mathcal{N}_d(\\mathbf{0}, \\mathbf{I})$ with $d<<\\min(|U|, |V|)$. By generating data point for $\\forall x \\in X$, the synthesized dataset is presumably to have low-rank, similar to other real-world recommendation datsets. Lastly, we binarize $X$ to transform it into implicit feedback data by setting a threshold $\\epsilon$. By controlling the value of $(|U|,V|,d,\\epsilon)$, we are able to have arbitrary-size synthetic datasets with different ranks and sparsity levels."
   ]
  },
  {
   "cell_type": "markdown",
   "metadata": {},
   "source": [
    "Define some hyperparameters for synthetic data generation"
   ]
  },
  {
   "cell_type": "code",
   "execution_count": 5,
   "metadata": {},
   "outputs": [],
   "source": [
    "n_users = 1000        # number of total users (normal and fake), |U| + |V|\n",
    "n_items = 300         # number of items |I|\n",
    "n_fakes = 100         # number of fake user |V|\n",
    "\n",
    "data_ranks = 20       # synthetic data rank d\n",
    "binary_threshold = 5  # threshold epsilon\n",
    "\n",
    "# Without loss of generality, let's suppose we're targeting the item `i0`.\n",
    "# i.e., we want to push `i0` to true users' recommendation lists.\n",
    "target_item = 0"
   ]
  },
  {
   "cell_type": "markdown",
   "metadata": {},
   "source": [
    "Generate the synthetic data following the above procedure"
   ]
  },
  {
   "cell_type": "code",
   "execution_count": 6,
   "metadata": {},
   "outputs": [
    {
     "name": "stdout",
     "output_type": "stream",
     "text": [
      "tensor([[0., 0., 1.,  ..., 0., 1., 1.],\n",
      "        [1., 0., 0.,  ..., 0., 0., 0.],\n",
      "        [0., 1., 0.,  ..., 0., 0., 0.],\n",
      "        ...,\n",
      "        [0., 0., 0.,  ..., 0., 0., 0.],\n",
      "        [0., 0., 0.,  ..., 0., 0., 0.],\n",
      "        [0., 1., 0.,  ..., 0., 0., 0.]])\n",
      "data sparsity: 0.88\n",
      "tensor([[1., 0., 0.,  ..., 0., 0., 0.],\n",
      "        [1., 0., 0.,  ..., 0., 0., 0.],\n",
      "        [1., 0., 0.,  ..., 0., 0., 0.],\n",
      "        ...,\n",
      "        [1., 0., 0.,  ..., 0., 0., 0.],\n",
      "        [1., 0., 0.,  ..., 0., 0., 0.],\n",
      "        [1., 0., 0.,  ..., 0., 0., 0.]])\n"
     ]
    },
    {
     "name": "stderr",
     "output_type": "stream",
     "text": [
      "/pytorch/torch/csrc/utils/python_arg_parser.cpp:756: UserWarning: This overload of nonzero is deprecated:\n",
      "\tnonzero(Tensor input, *, Tensor out)\n",
      "Consider using one of the following signatures instead:\n",
      "\tnonzero(Tensor input, *, bool as_tuple)\n"
     ]
    }
   ],
   "source": [
    "dense_data_x = torch.mm(torch.randn(n_users, data_ranks),\n",
    "                        torch.randn(data_ranks, n_items))\n",
    "data_x = torch.zeros_like(dense_data_x)\n",
    "test_items = np.empty([n_users - n_fakes], dtype=np.int64)\n",
    "for i, x in enumerate(dense_data_x):\n",
    "    # Apply thresholding to make synthetic data for implicit feedback.\n",
    "    x_binary = torch.where(x > binary_threshold,\n",
    "                           torch.ones_like(x), torch.zeros_like(x))\n",
    "    \n",
    "    # For the true users, sample 1 item per user as the test item.\n",
    "    nnz_inds = torch.nonzero(x_binary).view(-1)\n",
    "    rand_ind = np.random.randint(0, nnz_inds.shape[0])\n",
    "    test_item = nnz_inds[rand_ind]\n",
    "    # Also we have to remove it from training data.\n",
    "    if i < (n_users - n_fakes):\n",
    "        x_binary[test_item] = 0.0\n",
    "        test_items[i] = test_item.item()\n",
    "    data_x[i] = x_binary\n",
    "\n",
    "target_x = torch.zeros_like(data_x)\n",
    "target_x[:, target_item] = 1.0\n",
    "\n",
    "print(data_x)\n",
    "print(\"data sparsity: %.2f\" % (1 - data_x.sum().item() / data_x.view(-1).shape[0]))\n",
    "print(target_x)"
   ]
  },
  {
   "cell_type": "markdown",
   "metadata": {},
   "source": [
    "## Solve the bi-level optimization problem to learn fake data for adversearial goal\n",
    "Given a well-trained surrogate model that is under-attack and a set of fake users $V = \\{v_1, v_2,..,v_{|V|}\\}$, the fake data $\\widehat{X} \\in \\{0,1\\}^{|V| \\times |I|}$ will be learned to optimize an adversarial objective function ${\\mathcal{L}_{\\rm{adv}}}$:\n",
    "$$\n",
    "\\min_{\\widehat{X}}{\\mathcal{L}_{\\rm{adv}}}(R_{\\theta^*}),\n",
    "$$\n",
    "$$\n",
    "\\textrm{subject to}\\quad \\theta^* = \\text{argmin}_\\theta \\big ( {\\mathcal{L}_{\\rm{train}}}(X, R_{\\theta}) + {\\mathcal{L}_{\\rm{train}}}(\\widehat{X}, \\widehat{R}_{\\theta}) \\big ),\n",
    "$$\n",
    "\n",
    "The inner objective (the first minimization in below) shows that after fake data $\\widehat{X}$ are injected, the surrogate model will first consume them (i.e., train from scratch with the poisoned dataset), we then obtain the trained model parameters $\\theta^*$.\n",
    "The outer objective (the second minimization in below) shows that after fake data are consumed, we can achieve the malicious goal defined on normal user's predictions $R_{\\theta^*}$."
   ]
  },
  {
   "cell_type": "markdown",
   "metadata": {},
   "source": [
    "Define some hyperparameters"
   ]
  },
  {
   "cell_type": "code",
   "execution_count": 7,
   "metadata": {},
   "outputs": [],
   "source": [
    "seed = 1234           # random seed\n",
    "use_cuda = False      # whether to use GPU\n",
    "verbose = False       # whether to output full log\n",
    "\n",
    "n_inner_iter = 100    # epochs for inner optimization\n",
    "n_outer_iter = 50     # epochs for outer optimization\n",
    "unroll_epochs = 100   # how many epochs to unroll\n",
    "\n",
    "# Learning rate and momentum for outer objective optimizer, make sure\n",
    "# they are carefully tuned for different surrogate and unroll_epochs.\n",
    "outer_lr = 1.0\n",
    "outer_momentum = 0.99\n",
    "\n",
    "surrogate = \"LFM\"    # which surrogate model to use (LFM or ItemAE)"
   ]
  },
  {
   "cell_type": "markdown",
   "metadata": {},
   "source": [
    "Adversarial training loop (i.e., algorithm 1 in the paper)"
   ]
  },
  {
   "cell_type": "code",
   "execution_count": 8,
   "metadata": {},
   "outputs": [
    {
     "name": "stdout",
     "output_type": "stream",
     "text": [
      "outer epoch: 1, loss: 5154.66, {'hr@10_test': '0.4667', 'mean_rank_test': '23.4811', 'hr@10_target': '0.0389', 'mean_rank_target': '146.0800'}\n",
      "----------------------------------------------------------------------------------------------------\n",
      "outer epoch: 2, loss: 4891.29, {'hr@10_test': '0.4778', 'mean_rank_test': '22.6356', 'hr@10_target': '0.1789', 'mean_rank_target': '79.1489'}\n",
      "----------------------------------------------------------------------------------------------------\n",
      "outer epoch: 3, loss: 4827.30, {'hr@10_test': '0.4889', 'mean_rank_test': '22.1300', 'hr@10_target': '0.2444', 'mean_rank_target': '62.4244'}\n",
      "----------------------------------------------------------------------------------------------------\n",
      "outer epoch: 4, loss: 4804.63, {'hr@10_test': '0.4867', 'mean_rank_test': '22.4878', 'hr@10_target': '0.2800', 'mean_rank_target': '58.0122'}\n",
      "----------------------------------------------------------------------------------------------------\n",
      "outer epoch: 5, loss: 4789.50, {'hr@10_test': '0.4700', 'mean_rank_test': '23.1911', 'hr@10_target': '0.3211', 'mean_rank_target': '55.9156'}\n",
      "----------------------------------------------------------------------------------------------------\n",
      "outer epoch: 6, loss: 4780.63, {'hr@10_test': '0.4756', 'mean_rank_test': '22.7356', 'hr@10_target': '0.3611', 'mean_rank_target': '55.0522'}\n",
      "----------------------------------------------------------------------------------------------------\n",
      "outer epoch: 7, loss: 4768.44, {'hr@10_test': '0.4900', 'mean_rank_test': '22.6844', 'hr@10_target': '0.4033', 'mean_rank_target': '53.6511'}\n",
      "----------------------------------------------------------------------------------------------------\n",
      "outer epoch: 8, loss: 4757.57, {'hr@10_test': '0.4833', 'mean_rank_test': '22.7256', 'hr@10_target': '0.4378', 'mean_rank_target': '52.3656'}\n",
      "----------------------------------------------------------------------------------------------------\n",
      "outer epoch: 9, loss: 4749.97, {'hr@10_test': '0.4789', 'mean_rank_test': '22.7133', 'hr@10_target': '0.4556', 'mean_rank_target': '51.7767'}\n",
      "----------------------------------------------------------------------------------------------------\n",
      "outer epoch: 10, loss: 4742.56, {'hr@10_test': '0.4822', 'mean_rank_test': '22.5222', 'hr@10_target': '0.4667', 'mean_rank_target': '51.2500'}\n",
      "----------------------------------------------------------------------------------------------------\n",
      "outer epoch: 11, loss: 4738.65, {'hr@10_test': '0.4856', 'mean_rank_test': '22.9100', 'hr@10_target': '0.4922', 'mean_rank_target': '51.0933'}\n",
      "----------------------------------------------------------------------------------------------------\n",
      "outer epoch: 12, loss: 4734.74, {'hr@10_test': '0.4756', 'mean_rank_test': '22.5744', 'hr@10_target': '0.5011', 'mean_rank_target': '50.9811'}\n",
      "----------------------------------------------------------------------------------------------------\n",
      "outer epoch: 13, loss: 4726.76, {'hr@10_test': '0.4911', 'mean_rank_test': '22.1844', 'hr@10_target': '0.5311', 'mean_rank_target': '50.4000'}\n",
      "----------------------------------------------------------------------------------------------------\n",
      "outer epoch: 14, loss: 4723.26, {'hr@10_test': '0.4911', 'mean_rank_test': '22.0633', 'hr@10_target': '0.5211', 'mean_rank_target': '50.2756'}\n",
      "----------------------------------------------------------------------------------------------------\n",
      "outer epoch: 15, loss: 4716.73, {'hr@10_test': '0.4722', 'mean_rank_test': '22.2222', 'hr@10_target': '0.5544', 'mean_rank_target': '49.7700'}\n",
      "----------------------------------------------------------------------------------------------------\n",
      "outer epoch: 16, loss: 4712.30, {'hr@10_test': '0.4689', 'mean_rank_test': '22.1289', 'hr@10_target': '0.5667', 'mean_rank_target': '49.4511'}\n",
      "----------------------------------------------------------------------------------------------------\n",
      "outer epoch: 17, loss: 4706.69, {'hr@10_test': '0.4833', 'mean_rank_test': '22.2856', 'hr@10_target': '0.5789', 'mean_rank_target': '49.1022'}\n",
      "----------------------------------------------------------------------------------------------------\n",
      "outer epoch: 18, loss: 4700.13, {'hr@10_test': '0.4733', 'mean_rank_test': '22.0000', 'hr@10_target': '0.5978', 'mean_rank_target': '48.5600'}\n",
      "----------------------------------------------------------------------------------------------------\n",
      "outer epoch: 19, loss: 4701.90, {'hr@10_test': '0.4811', 'mean_rank_test': '21.9300', 'hr@10_target': '0.5867', 'mean_rank_target': '48.9600'}\n",
      "----------------------------------------------------------------------------------------------------\n",
      "outer epoch: 20, loss: 4694.81, {'hr@10_test': '0.4744', 'mean_rank_test': '22.2889', 'hr@10_target': '0.6122', 'mean_rank_target': '48.4667'}\n",
      "----------------------------------------------------------------------------------------------------\n",
      "outer epoch: 21, loss: 4691.23, {'hr@10_test': '0.4756', 'mean_rank_test': '22.6378', 'hr@10_target': '0.6056', 'mean_rank_target': '48.5978'}\n",
      "----------------------------------------------------------------------------------------------------\n",
      "outer epoch: 22, loss: 4690.77, {'hr@10_test': '0.4744', 'mean_rank_test': '22.6267', 'hr@10_target': '0.5978', 'mean_rank_target': '48.9056'}\n",
      "----------------------------------------------------------------------------------------------------\n",
      "outer epoch: 23, loss: 4688.53, {'hr@10_test': '0.4756', 'mean_rank_test': '22.7578', 'hr@10_target': '0.6111', 'mean_rank_target': '48.6544'}\n",
      "----------------------------------------------------------------------------------------------------\n",
      "outer epoch: 24, loss: 4712.32, {'hr@10_test': '0.4767', 'mean_rank_test': '22.5422', 'hr@10_target': '0.5156', 'mean_rank_target': '53.3411'}\n",
      "----------------------------------------------------------------------------------------------------\n",
      "outer epoch: 25, loss: 4744.67, {'hr@10_test': '0.4811', 'mean_rank_test': '23.0656', 'hr@10_target': '0.4656', 'mean_rank_target': '58.4489'}\n",
      "----------------------------------------------------------------------------------------------------\n",
      "outer epoch: 26, loss: 4713.62, {'hr@10_test': '0.4789', 'mean_rank_test': '22.9633', 'hr@10_target': '0.5411', 'mean_rank_target': '52.6544'}\n",
      "----------------------------------------------------------------------------------------------------\n",
      "outer epoch: 27, loss: 4693.26, {'hr@10_test': '0.4678', 'mean_rank_test': '23.1144', 'hr@10_target': '0.5889', 'mean_rank_target': '50.0033'}\n",
      "----------------------------------------------------------------------------------------------------\n",
      "outer epoch: 28, loss: 4691.37, {'hr@10_test': '0.4833', 'mean_rank_test': '23.3089', 'hr@10_target': '0.5856', 'mean_rank_target': '49.5267'}\n",
      "----------------------------------------------------------------------------------------------------\n",
      "outer epoch: 29, loss: 4685.18, {'hr@10_test': '0.4767', 'mean_rank_test': '23.0967', 'hr@10_target': '0.6167', 'mean_rank_target': '49.0167'}\n",
      "----------------------------------------------------------------------------------------------------\n",
      "outer epoch: 30, loss: 4680.69, {'hr@10_test': '0.4711', 'mean_rank_test': '23.1078', 'hr@10_target': '0.6178', 'mean_rank_target': '48.7633'}\n",
      "----------------------------------------------------------------------------------------------------\n",
      "outer epoch: 31, loss: 4677.21, {'hr@10_test': '0.4722', 'mean_rank_test': '22.9744', 'hr@10_target': '0.6167', 'mean_rank_target': '48.6911'}\n",
      "----------------------------------------------------------------------------------------------------\n",
      "outer epoch: 32, loss: 4675.10, {'hr@10_test': '0.4822', 'mean_rank_test': '22.8067', 'hr@10_target': '0.6289', 'mean_rank_target': '48.5189'}\n",
      "----------------------------------------------------------------------------------------------------\n",
      "outer epoch: 33, loss: 4675.17, {'hr@10_test': '0.4722', 'mean_rank_test': '22.8011', 'hr@10_target': '0.6222', 'mean_rank_target': '48.5556'}\n",
      "----------------------------------------------------------------------------------------------------\n",
      "outer epoch: 34, loss: 4672.76, {'hr@10_test': '0.4711', 'mean_rank_test': '22.9833', 'hr@10_target': '0.6267', 'mean_rank_target': '48.8322'}\n",
      "----------------------------------------------------------------------------------------------------\n",
      "outer epoch: 35, loss: 4670.03, {'hr@10_test': '0.4689', 'mean_rank_test': '22.8111', 'hr@10_target': '0.6244', 'mean_rank_target': '48.2900'}\n",
      "----------------------------------------------------------------------------------------------------\n",
      "outer epoch: 36, loss: 4670.37, {'hr@10_test': '0.4667', 'mean_rank_test': '23.1544', 'hr@10_target': '0.6367', 'mean_rank_target': '48.2956'}\n",
      "----------------------------------------------------------------------------------------------------\n",
      "outer epoch: 37, loss: 4666.85, {'hr@10_test': '0.4733', 'mean_rank_test': '23.2778', 'hr@10_target': '0.6500', 'mean_rank_target': '48.2444'}\n",
      "----------------------------------------------------------------------------------------------------\n",
      "outer epoch: 38, loss: 4668.49, {'hr@10_test': '0.4700', 'mean_rank_test': '23.1078', 'hr@10_target': '0.6389', 'mean_rank_target': '48.3444'}\n",
      "----------------------------------------------------------------------------------------------------\n",
      "outer epoch: 39, loss: 4669.35, {'hr@10_test': '0.4678', 'mean_rank_test': '22.7200', 'hr@10_target': '0.6322', 'mean_rank_target': '48.3889'}\n",
      "----------------------------------------------------------------------------------------------------\n",
      "outer epoch: 40, loss: 4679.67, {'hr@10_test': '0.4667', 'mean_rank_test': '23.0889', 'hr@10_target': '0.5944', 'mean_rank_target': '50.7033'}\n",
      "----------------------------------------------------------------------------------------------------\n",
      "outer epoch: 41, loss: 4687.68, {'hr@10_test': '0.4944', 'mean_rank_test': '23.0656', 'hr@10_target': '0.5789', 'mean_rank_target': '51.3322'}\n",
      "----------------------------------------------------------------------------------------------------\n",
      "outer epoch: 42, loss: 4742.58, {'hr@10_test': '0.4878', 'mean_rank_test': '23.1811', 'hr@10_target': '0.4667', 'mean_rank_target': '58.7011'}\n",
      "----------------------------------------------------------------------------------------------------\n",
      "outer epoch: 43, loss: 4694.65, {'hr@10_test': '0.4800', 'mean_rank_test': '23.0189', 'hr@10_target': '0.5556', 'mean_rank_target': '51.7833'}\n",
      "----------------------------------------------------------------------------------------------------\n",
      "outer epoch: 44, loss: 4681.90, {'hr@10_test': '0.4811', 'mean_rank_test': '22.9044', 'hr@10_target': '0.6011', 'mean_rank_target': '50.1122'}\n",
      "----------------------------------------------------------------------------------------------------\n",
      "outer epoch: 45, loss: 4675.78, {'hr@10_test': '0.4911', 'mean_rank_test': '22.7111', 'hr@10_target': '0.6100', 'mean_rank_target': '49.4133'}\n",
      "----------------------------------------------------------------------------------------------------\n",
      "outer epoch: 46, loss: 4671.02, {'hr@10_test': '0.4900', 'mean_rank_test': '22.8322', 'hr@10_target': '0.6322', 'mean_rank_target': '48.7511'}\n",
      "----------------------------------------------------------------------------------------------------\n",
      "outer epoch: 47, loss: 4669.48, {'hr@10_test': '0.4889', 'mean_rank_test': '22.6622', 'hr@10_target': '0.6256', 'mean_rank_target': '48.7089'}\n",
      "----------------------------------------------------------------------------------------------------\n",
      "outer epoch: 48, loss: 4666.20, {'hr@10_test': '0.4833', 'mean_rank_test': '22.6756', 'hr@10_target': '0.6367', 'mean_rank_target': '48.5744'}\n",
      "----------------------------------------------------------------------------------------------------\n",
      "outer epoch: 49, loss: 4665.71, {'hr@10_test': '0.4922', 'mean_rank_test': '22.5267', 'hr@10_target': '0.6378', 'mean_rank_target': '48.6922'}\n",
      "----------------------------------------------------------------------------------------------------\n",
      "outer epoch: 50, loss: 4663.87, {'hr@10_test': '0.4833', 'mean_rank_test': '22.3844', 'hr@10_target': '0.6389', 'mean_rank_target': '48.3422'}\n",
      "----------------------------------------------------------------------------------------------------\n"
     ]
    }
   ],
   "source": [
    "device = \"cuda\" if use_cuda else \"cpu\"\n",
    "set_random_seed(seed, use_cuda)\n",
    "\n",
    "inner_loss_func = partial(mse_loss, weight=20)\n",
    "outer_loss_func = softmax_cross_entropy_with_logits\n",
    "\n",
    "data_x.requires_grad_()\n",
    "outer_opt = optim.SGD([data_x], lr=outer_lr, momentum=outer_momentum)\n",
    "\n",
    "data_x = data_x.to(device)\n",
    "target_x = target_x.to(device)\n",
    "\n",
    "results = {\"adv_loss\": [], \"hr@10_target\": [], \"hr@10_test\": []}\n",
    "for j in range(1, n_outer_iter + 1):\n",
    "    torch.manual_seed(seed)\n",
    "    model, inner_opt = get_model(surrogate)\n",
    "    model = model.to(device)\n",
    "    \n",
    "    outer_opt.zero_grad()    \n",
    "    ### Begin: Inner-level optimization\n",
    "    # Train a few steps without tracking gradients.\n",
    "    for i in range(1, n_inner_iter - unroll_epochs + 1):\n",
    "        model.train()\n",
    "        preds = model() if surrogate == \"LFM\" else model(data_x)\n",
    "        inner_loss = inner_loss_func(preds, data_x)\n",
    "        inner_opt.zero_grad()\n",
    "        inner_loss.backward()\n",
    "        inner_opt.step()\n",
    "        # Evaluate recommendation performance along training steps.\n",
    "        model.eval()\n",
    "        result = evaluate(data_x, preds.detach(), test_items)\n",
    "        if verbose and i % 10 == 0:\n",
    "            print(\"inner epoch: %d, loss: %.2f, %s\" % (\n",
    "                i, inner_loss.item(), str(result)))\n",
    "    # Start using tracking gradients.\n",
    "    with higher.innerloop_ctx(model, inner_opt) as (fmodel, diffopt):\n",
    "        if verbose:\n",
    "            print(\"Switching to higher mode at epoch %d\" % i)\n",
    "        for i in range(n_inner_iter - unroll_epochs + 1, n_inner_iter + 1):\n",
    "            fmodel.train()\n",
    "            preds = fmodel() if surrogate == \"LFM\" else fmodel(data_x)\n",
    "            inner_loss = inner_loss_func(preds, data_x)\n",
    "            diffopt.step(inner_loss)\n",
    "            # Evaluate recommendation performance along training steps.\n",
    "            fmodel.eval()\n",
    "            result = evaluate(data_x, preds.detach(), test_items)\n",
    "            if verbose and i % 10 == 0:\n",
    "                print(\"inner epoch: %d, loss: %.2f, %s\" % (\n",
    "                    i, inner_loss.item(), str(result)))\n",
    "    ### End: Inner-level optimization\n",
    "    \n",
    "    ### Start: outer-level optimization\n",
    "    preds = fmodel() if surrogate == \"LFM\" else fmodel(data_x)\n",
    "    outer_loss = outer_loss_func(preds[:-n_fakes, ],\n",
    "                                 target_x[:-n_fakes, ])\n",
    "    results[\"adv_loss\"].append(float(\"%.4f\" % outer_loss.item()))\n",
    "    grad_x = torch.autograd.grad(outer_loss, data_x)[0]\n",
    "    # Only change the fake data by setting normal data gradient to 0.\n",
    "    grad_x[:-n_fakes, :] = 0.0\n",
    "    if data_x.grad is None:\n",
    "        data_x.grad = grad_x\n",
    "    else:\n",
    "        data_x.grad.data = grad_x\n",
    "    outer_opt.step()\n",
    "    # Project fake data onto allowable area.\n",
    "    data_x.data = project_data(data_x.data, 0.2)\n",
    "    ### End: outer-level optimization\n",
    "    \n",
    "    # Evaluate the recommendation performance and attack performance.\n",
    "    fmodel.eval()\n",
    "    preds = fmodel() if surrogate == \"LFM\" else fmodel(data_x)\n",
    "    result = evaluate(data_x, preds.detach(), test_items, target_item)\n",
    "    results[\"hr@10_target\"].append(float(result[\"hr@10_target\"]))\n",
    "    results[\"hr@10_test\"].append(float(result[\"hr@10_test\"]))\n",
    "    print(\"outer epoch: %d, loss: %.2f, %s\" % (\n",
    "        j, outer_loss.item(), str(result)))\n",
    "    print(\"-\" * 100)"
   ]
  },
  {
   "cell_type": "markdown",
   "metadata": {},
   "source": [
    "## Visualize the results"
   ]
  },
  {
   "cell_type": "code",
   "execution_count": 9,
   "metadata": {},
   "outputs": [
    {
     "data": {
      "text/plain": [
       "Text(0.5, 1.0, 'HR@10 for test item')"
      ]
     },
     "execution_count": 9,
     "metadata": {},
     "output_type": "execute_result"
    },
    {
     "data": {
      "image/png": "[encoded data removed]",
      "text/plain": [
       "<Figure size 864x288 with 3 Axes>"
      ]
     },
     "metadata": {
      "needs_background": "light"
     },
     "output_type": "display_data"
    }
   ],
   "source": [
    "import matplotlib\n",
    "import matplotlib.pyplot as plt\n",
    "\n",
    "fig, (ax1, ax2, ax3) = plt.subplots(1, 3, figsize=(12,4))\n",
    "\n",
    "ax1.plot(results['adv_loss'])\n",
    "ax1.set_xlabel(\"iteration\")\n",
    "ax1.set_title(\"adversarial loss\")\n",
    "\n",
    "ax2.plot(results['hr@10_target'])\n",
    "ax2.set_xlabel(\"iteration\")\n",
    "ax2.set_title(\"HR@10 for target item\")\n",
    "\n",
    "ax3.plot(results['hr@10_test'])\n",
    "ax3.set_xlabel(\"iteration\")\n",
    "ax3.set_title(\"HR@10 for test item\")\n"
   ]
  }
 ],
 "metadata": {
  "kernelspec": {
   "display_name": "Python 3",
   "language": "python",
   "name": "python3"
  },
  "language_info": {
   "codemirror_mode": {
    "name": "ipython",
    "version": 3
   },
   "file_extension": ".py",
   "mimetype": "text/x-python",
   "name": "python",
   "nbconvert_exporter": "python",
   "pygments_lexer": "ipython3",
   "version": "3.7.4"
  },
  "pycharm": {
   "stem_cell": {
    "cell_type": "raw",
    "source": [],
    "metadata": {
     "collapsed": false
    }
   }
  }
 },
 "nbformat": 4,
 "nbformat_minor": 4
}